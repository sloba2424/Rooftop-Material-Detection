{
 "cells": [
  {
   "cell_type": "code",
   "execution_count": null,
   "metadata": {
    "id": "tGIf1xo00yxP",
    "tags": []
   },
   "outputs": [],
   "source": [
    "# import tensorflow as tf\n",
    "# import tensorflow_datasets as tfds\n",
    "# from tensorflow_examples.models.pix2pix import pix2pix\n",
    "# !pip install git+https://github.com/tensorflow/examples.git\n",
    "\n",
    "\n",
    "from IPython.display import clear_output\n",
    "import matplotlib.pyplot as plt\n",
    "\n",
    "import numpy as np\n",
    "from PIL import Image\n",
    "import random\n",
    "import os\n",
    "import sys"
   ]
  },
  {
   "cell_type": "code",
   "execution_count": null,
   "metadata": {
    "tags": []
   },
   "outputs": [],
   "source": [
    "sys.path.append(\"../models/\")\n",
    "from models.models import generate_model_one"
   ]
  },
  {
   "cell_type": "code",
   "execution_count": null,
   "metadata": {
    "id": "zCSb3oelocCi",
    "tags": []
   },
   "outputs": [],
   "source": [
    "from skimage.io import imread, imshow\n",
    "from skimage.transform import resize\n",
    "from sklearn.model_selection import train_test_split"
   ]
  },
  {
   "cell_type": "code",
   "execution_count": null,
   "metadata": {
    "id": "J26c-T8aosS1",
    "tags": []
   },
   "outputs": [],
   "source": [
    "RANDOM_SEED = 1000\n",
    "PLOT_FLAG = True\n",
    "\n",
    "IMG_WIDTH = 128\n",
    "IMG_HEIGHT = 128\n",
    "IMG_CHANNELS = 3\n",
    "\n",
    "NUMBER_OF_DATA_POINTS = 1000"
   ]
  },
  {
   "cell_type": "code",
   "execution_count": null,
   "metadata": {
    "colab": {
     "base_uri": "https://localhost:8080/"
    },
    "id": "-OYHDjXQ09L_",
    "outputId": "ffdb4a6a-e30b-4d59-b0e4-29f10235eeff"
   },
   "outputs": [],
   "source": [
    "# to load data; first to enable gdrive\n",
    "# https://neptune.ai/blog/google-colab-dealing-with-files\n",
    "# https://www.marktechpost.com/2019/06/07/how-to-connect-google-colab-with-google-drive/\n",
    "\n",
    "from google.colab import drive\n",
    "# drive.mount('/content/gdrive')\n",
    "\n",
    "drive.flush_and_unmount()\n",
    "drive.mount('/content/gdrive', force_remount=True)"
   ]
  },
  {
   "cell_type": "code",
   "execution_count": null,
   "metadata": {
    "id": "oB_m2Wqv64de"
   },
   "outputs": [],
   "source": [
    "# !ls gdrive/MyDrive/rooftop "
   ]
  },
  {
   "cell_type": "code",
   "execution_count": null,
   "metadata": {
    "id": "vq-Li5i96ixs"
   },
   "outputs": [],
   "source": [
    "np.random.seed = RANDOM_SEED\n",
    "\n",
    "len_data = NUMBER_OF_DATA_POINTS\n",
    "len_train_data = int(0.8 * len_data)\n",
    "\n",
    "PATH = \"gdrive/MyDrive/rooftop/data_{}\".format(len_data )\n",
    "base_directory = PATH\n",
    "images_folder = os.path.join(base_directory, 'train_imgs_{}'.format(len_data))\n",
    "masks_folder = os.path.join(base_directory, 'mask_imgs_{}'.format(len_data))"
   ]
  },
  {
   "cell_type": "code",
   "execution_count": null,
   "metadata": {
    "colab": {
     "base_uri": "https://localhost:8080/"
    },
    "id": "AsMjFHDiGtSM",
    "outputId": "0a70c1c1-fdf5-4b62-895b-85cd9b661ab2"
   },
   "outputs": [],
   "source": [
    "X = np.zeros((len_data, IMG_HEIGHT, IMG_WIDTH, IMG_CHANNELS), dtype=np.uint8)\n",
    "y = np.zeros((len_data, IMG_HEIGHT, IMG_WIDTH, 1), dtype=bool)\n",
    "\n",
    "print(X.shape, y.shape)"
   ]
  },
  {
   "cell_type": "code",
   "execution_count": null,
   "metadata": {
    "id": "uCutQjh7Ka5r"
   },
   "outputs": [],
   "source": [
    "def transform_img(img):\n",
    "    return resize(img, (IMG_HEIGHT, IMG_WIDTH), mode='constant', preserve_range=True)"
   ]
  },
  {
   "cell_type": "code",
   "execution_count": null,
   "metadata": {
    "id": "aPFgyv5w8Fa9"
   },
   "outputs": [],
   "source": [
    "FOLDER_TRAIN = \"train_imgs_{}\".format(len_data)\n",
    "FOLDER_MASKS = \"mask_imgs_{}\".format(len_data)\n",
    "\n",
    "def fn_create_data_sets(DEBUG: bool = False):\n",
    "  data_images = []\n",
    "  data_segmentation_masks = []\n",
    "  data_file_names = []\n",
    "  \n",
    "  for cnt, file_name in enumerate(os.listdir(os.path.join(PATH, FOLDER_TRAIN))):\n",
    "      file_path = os.path.join(PATH, FOLDER_TRAIN, file_name)\n",
    "      mask_file_name = \"{}_{}\".format(\"mask\", file_name)\n",
    "      mask_file_path = os.path.join(PATH, FOLDER_MASKS, mask_file_name)\n",
    "\n",
    "      if os.path.isfile(file_path) and os.path.isfile(mask_file_path):\n",
    "          image = Image.open(file_path),\n",
    "          segmentation_mask = Image.open(mask_file_path),\n",
    "\n",
    "          data_images.append(image)\n",
    "          data_segmentation_masks.append(segmentation_mask)\n",
    "          data_file_names.append(file_name)\n",
    "      \n",
    "      if cnt % 100 == 0: print(\"cnt:\", cnt)\n",
    "      if DEBUG and cnt > 1000: break\n",
    "      \n",
    "  return (data_images, data_segmentation_masks, data_file_names)"
   ]
  },
  {
   "cell_type": "code",
   "execution_count": null,
   "metadata": {
    "id": "LXZ9S4mq8Fdn"
   },
   "outputs": [],
   "source": [
    "# os.listdir(os.path.join(PATH, FOLDER_TRAIN))"
   ]
  },
  {
   "cell_type": "code",
   "execution_count": null,
   "metadata": {
    "colab": {
     "base_uri": "https://localhost:8080/"
    },
    "id": "51-sgXBH7ep2",
    "outputId": "c2d602c3-6378-487b-9ebf-2d0674780beb"
   },
   "outputs": [],
   "source": [
    "data_images, data_segmentation_masks, data_file_names = fn_create_data_sets()"
   ]
  },
  {
   "cell_type": "code",
   "execution_count": null,
   "metadata": {
    "colab": {
     "base_uri": "https://localhost:8080/"
    },
    "id": "_mTNlBB0m5vh",
    "outputId": "88fc38be-2437-408f-e473-b38bdff44193"
   },
   "outputs": [],
   "source": [
    "PLOT_FLAG"
   ]
  },
  {
   "cell_type": "code",
   "execution_count": null,
   "metadata": {
    "colab": {
     "base_uri": "https://localhost:8080/",
     "height": 317
    },
    "id": "qM3lYy-j70Yg",
    "outputId": "3056fd5a-6b51-498c-88be-652b8c6fba0d"
   },
   "outputs": [],
   "source": [
    "data_images[0][0]"
   ]
  },
  {
   "cell_type": "code",
   "execution_count": null,
   "metadata": {
    "colab": {
     "base_uri": "https://localhost:8080/",
     "height": 317
    },
    "id": "wom6ur5nGVwD",
    "outputId": "b7d906c2-3422-4b2a-fcfe-33d23d38a08c"
   },
   "outputs": [],
   "source": [
    "data_segmentation_masks[0][0]"
   ]
  },
  {
   "cell_type": "code",
   "execution_count": null,
   "metadata": {
    "colab": {
     "base_uri": "https://localhost:8080/"
    },
    "id": "RALSGJ4uGZCZ",
    "outputId": "c9513a4d-a428-485f-c4c0-f443198ae205"
   },
   "outputs": [],
   "source": [
    "print(\n",
    "    np.array(data_images[0][0]).shape, \n",
    "    np.array(data_segmentation_masks[0][0]).shape,\n",
    ")"
   ]
  },
  {
   "cell_type": "code",
   "execution_count": null,
   "metadata": {
    "id": "bHssOqGOLSqT"
   },
   "outputs": [],
   "source": [
    "def resize_img_tf(input_img):\n",
    "    return tf.image.resize((tf.cast(input_img, tf.float32) / 255.0), (128, 128))\n",
    "\n",
    "def transformation_of_mask(input_mask):\n",
    "  # convert to gray scale\n",
    "  gray_img = input_mask.convert('L')\n",
    "  transformed_gray_img = np.array((np.array(gray_img) > 255 // 2) * 255)\n",
    "  gray_to_tensor = tf.reshape(\n",
    "    tf.convert_to_tensor(transformed_gray_img),\n",
    "    (300, 300, 1),\n",
    "  )\n",
    "  result = tf.image.resize(\n",
    "      gray_to_tensor,\n",
    "      (128, 128),\n",
    "      method = tf.image.ResizeMethod.NEAREST_NEIGHBOR,\n",
    "    )\n",
    "  \n",
    "  # important: do we return: (result) or (1 - result)\n",
    "  # return 1 - result\n",
    "  \n",
    "  return result"
   ]
  },
  {
   "cell_type": "code",
   "execution_count": null,
   "metadata": {
    "colab": {
     "base_uri": "https://localhost:8080/",
     "height": 286
    },
    "id": "05snQ5T3nCRi",
    "outputId": "f72ed02f-d9cf-48b2-ae37-6882c4c31d8f"
   },
   "outputs": [],
   "source": [
    "plt.imshow(resize_img_tf(data_images[0][0]))"
   ]
  },
  {
   "cell_type": "code",
   "execution_count": null,
   "metadata": {
    "colab": {
     "base_uri": "https://localhost:8080/",
     "height": 286
    },
    "id": "UAu3IjuhnT38",
    "outputId": "aa95881f-19bc-49fa-eb69-0de0fe46bfd6"
   },
   "outputs": [],
   "source": [
    "plt.imshow(\n",
    "  transformation_of_mask(data_segmentation_masks[0][0]),\n",
    "  cmap=plt.cm.binary,\n",
    ")"
   ]
  },
  {
   "cell_type": "code",
   "execution_count": null,
   "metadata": {
    "id": "YYdUBtoVnt_s"
   },
   "outputs": [],
   "source": [
    "input_mask = data_segmentation_masks[0][0]\n",
    "# convert to gray scale\n",
    "gray_img = input_mask.convert('L')\n",
    "transformed_gray_img = np.array((np.array(gray_img) > 255 // 2) * 255)\n",
    "gray_to_tensor = tf.reshape(\n",
    "  tf.convert_to_tensor(transformed_gray_img),\n",
    "  (300, 300, 1),\n",
    ")\n",
    "result = tf.image.resize(\n",
    "    gray_to_tensor,\n",
    "    (128, 128),\n",
    "    method = tf.image.ResizeMethod.NEAREST_NEIGHBOR,\n",
    ")\n"
   ]
  },
  {
   "cell_type": "code",
   "execution_count": null,
   "metadata": {
    "colab": {
     "base_uri": "https://localhost:8080/",
     "height": 317
    },
    "id": "pCXeB0d8oFYm",
    "outputId": "b6166eb0-546f-45e8-d2e0-a14432d79ec5"
   },
   "outputs": [],
   "source": [
    "input_mask"
   ]
  },
  {
   "cell_type": "code",
   "execution_count": null,
   "metadata": {
    "colab": {
     "base_uri": "https://localhost:8080/",
     "height": 317
    },
    "id": "qqUaLHQsoI6K",
    "outputId": "73438531-75af-4ca3-9ca6-62bdc208365f"
   },
   "outputs": [],
   "source": [
    "gray_img"
   ]
  },
  {
   "cell_type": "code",
   "execution_count": null,
   "metadata": {
    "colab": {
     "base_uri": "https://localhost:8080/"
    },
    "id": "uc1ZyKdyoLDk",
    "outputId": "68b9967b-669c-4e0f-eca6-7227c5b4a276"
   },
   "outputs": [],
   "source": [
    "gray_to_tensor"
   ]
  },
  {
   "cell_type": "code",
   "execution_count": null,
   "metadata": {
    "colab": {
     "base_uri": "https://localhost:8080/",
     "height": 287
    },
    "id": "AI0ToBkloMHL",
    "outputId": "005c2fda-e299-460a-8acb-0a7f4f0d6daf"
   },
   "outputs": [],
   "source": [
    "plt.imshow(np.array(1 - gray_to_tensor))"
   ]
  },
  {
   "cell_type": "code",
   "execution_count": null,
   "metadata": {
    "colab": {
     "base_uri": "https://localhost:8080/",
     "height": 286
    },
    "id": "BHfobjXPohH1",
    "outputId": "a82075aa-2ca9-4405-eeb8-b058b57dc47d"
   },
   "outputs": [],
   "source": [
    "plt.imshow(1 - result, cmap=plt.cm.binary)"
   ]
  },
  {
   "cell_type": "code",
   "execution_count": null,
   "metadata": {
    "id": "nCMPOKvEMwn-"
   },
   "outputs": [],
   "source": [
    "# from PIL import Image\n",
    "# data_images[0][0].resize((IMG_HEIGHT, IMG_WIDTH), Image.Resampling.LANCZOS)"
   ]
  },
  {
   "cell_type": "code",
   "execution_count": null,
   "metadata": {
    "id": "2eCLOutaNqqY"
   },
   "outputs": [],
   "source": [
    "X_data = [resize_img_tf(img[0]).numpy() for img in data_images]\n",
    "y_data = [transformation_of_mask(img[0]).numpy() for img in data_segmentation_masks]"
   ]
  },
  {
   "cell_type": "code",
   "execution_count": null,
   "metadata": {
    "id": "GtKKEiAKTyYz"
   },
   "outputs": [],
   "source": [
    "X = np.zeros((len_data, IMG_HEIGHT, IMG_WIDTH, IMG_CHANNELS), dtype=np.uint8)\n",
    "y = np.zeros((len_data, IMG_HEIGHT, IMG_WIDTH, 1), dtype=bool)\n"
   ]
  },
  {
   "cell_type": "code",
   "execution_count": null,
   "metadata": {
    "id": "cvVsY5MBT0nY"
   },
   "outputs": [],
   "source": [
    "for i in range(len_data):\n",
    "  X[i] = X_data[i]\n",
    "  y[i] = y_data[i]"
   ]
  },
  {
   "cell_type": "code",
   "execution_count": null,
   "metadata": {
    "id": "29jDbcyBN5Ad"
   },
   "outputs": [],
   "source": [
    "\n",
    "X_train, X_test, y_train, y_test = train_test_split(X, y, test_size=0.33, random_state=42)"
   ]
  },
  {
   "cell_type": "code",
   "execution_count": null,
   "metadata": {
    "colab": {
     "base_uri": "https://localhost:8080/"
    },
    "id": "X1OykcXyQrsD",
    "outputId": "1425207f-67bc-431d-d44c-fe9765e94799"
   },
   "outputs": [],
   "source": [
    "print(X_train.shape, y_train.shape, y_train.shape, y_test.shape)"
   ]
  },
  {
   "cell_type": "code",
   "execution_count": null,
   "metadata": {
    "id": "oHZ3Xrn_QzF2"
   },
   "outputs": [],
   "source": [
    "# X_data[0]\n",
    "input_shape = (IMG_HEIGHT, IMG_WIDTH, IMG_CHANNELS)\n"
   ]
  },
  {
   "cell_type": "code",
   "execution_count": null,
   "metadata": {},
   "outputs": [],
   "source": []
  },
  {
   "cell_type": "code",
   "execution_count": null,
   "metadata": {
    "colab": {
     "base_uri": "https://localhost:8080/"
    },
    "id": "1YM_gzdcsRIu",
    "outputId": "f91b8f65-702e-43dc-d853-09ea3d68129c",
    "tags": []
   },
   "outputs": [],
   "source": [
    "from models.models import generate_model_one\n",
    "\n",
    "(IMG_HEIGHT, IMG_WIDTH, IMG_CHANNELS)\n",
    "\n",
    "model = generate_model_one(\n",
    "    input_shape=(IMG_HEIGHT, IMG_WIDTH, IMG_CHANNELS)\n",
    ")\n",
    "# model.compile(optimizer='adam', loss='binary_crossentropy', metrics=['accuracy'])\n",
    "\n",
    "model.compile(\n",
    "    optimizer='adam',\n",
    "    loss=tf.keras.losses.SparseCategoricalCrossentropy(from_logits=True),\n",
    "    metrics=['accuracy'],\n",
    ")\n",
    "\n",
    "model.summary()"
   ]
  },
  {
   "cell_type": "code",
   "execution_count": null,
   "metadata": {
    "colab": {
     "base_uri": "https://localhost:8080/",
     "height": 1000
    },
    "id": "p-znyLCkKIk4",
    "outputId": "ae2940c0-fff8-4834-e28d-585014ba8009"
   },
   "outputs": [],
   "source": [
    "callbacks = [\n",
    "        # tf.keras.callbacks.EarlyStopping(patience=2, monitor='val_loss'),\n",
    "        tf.keras.callbacks.TensorBoard(log_dir='./logs'),\n",
    "]\n",
    "\n",
    "model.fit(\n",
    "    X_train, \n",
    "    y_train, \n",
    "    validation_data=(X_test, y_test), \n",
    "    batch_size=16, \n",
    "    epochs=2, \n",
    "    callbacks=callbacks,\n",
    ")"
   ]
  },
  {
   "cell_type": "code",
   "execution_count": null,
   "metadata": {
    "id": "qH7JC9TwtF1H"
   },
   "outputs": [],
   "source": [
    "def get_utc_timestamp_formatted(time_format: str = \"%Y%m%d_%H%M%S\") -> str:\n",
    "    from datetime import datetime\n",
    "    return datetime.utcnow().strftime(time_format)\n",
    "\n",
    "utc_timestamp = get_utc_timestamp_formatted()"
   ]
  },
  {
   "cell_type": "code",
   "execution_count": null,
   "metadata": {
    "id": "fy2TacwduuxV"
   },
   "outputs": [],
   "source": []
  },
  {
   "cell_type": "code",
   "execution_count": null,
   "metadata": {
    "colab": {
     "base_uri": "https://localhost:8080/",
     "height": 295
    },
    "id": "iAh1q5xwUd5L",
    "outputId": "2e57a1fa-f749-4908-c368-15f2a640ead1"
   },
   "outputs": [],
   "source": [
    "loss = model.history.history['loss']\n",
    "val_loss = model.history.history['val_loss']\n",
    "\n",
    "plt.figure()\n",
    "plt.plot( loss, 'r', label='Training loss')\n",
    "plt.plot( val_loss, 'bo', label='Validation loss')\n",
    "plt.title('Training and Validation Loss')\n",
    "plt.xlabel('Epoch')\n",
    "plt.ylabel('Loss Value')\n",
    "plt.ylim([0, 1])\n",
    "plt.legend()\n",
    "plt.grid(True)\n",
    "plt.savefig(\"results_train_val_{}\".format(NUMBER_OF_DATA_POINTS, utc_timestamp))\n",
    "if PLOT_FLAG:\n",
    "  plt.show()"
   ]
  },
  {
   "cell_type": "code",
   "execution_count": null,
   "metadata": {
    "colab": {
     "base_uri": "https://localhost:8080/",
     "height": 295
    },
    "id": "6xfYaylmKInf",
    "outputId": "0e8e8f70-5058-417f-de31-5157d5f0b903"
   },
   "outputs": [],
   "source": [
    "accuracy = model.history.history['accuracy']\n",
    "val_accuracy = model.history.history['val_accuracy']\n",
    "\n",
    "plt.figure()\n",
    "plt.plot( accuracy, 'r', label='Training accuracy')\n",
    "plt.plot( val_accuracy, 'bo', label='Validation accuracy')\n",
    "plt.title('Training and Validation accuracy')\n",
    "plt.xlabel('Epoch')\n",
    "plt.ylabel('Loss Value')\n",
    "plt.ylim([0, 1])\n",
    "plt.legend()\n",
    "plt.grid(True)\n",
    "plt.savefig(\"results_train_val_{}\".format(NUMBER_OF_DATA_POINTS, utc_timestamp))\n",
    "if PLOT_FLAG:\n",
    "  plt.show()"
   ]
  },
  {
   "cell_type": "code",
   "execution_count": null,
   "metadata": {
    "id": "DaxS8f6iKIqd"
   },
   "outputs": [],
   "source": []
  },
  {
   "cell_type": "code",
   "execution_count": null,
   "metadata": {
    "id": "U7Tod30RKItF"
   },
   "outputs": [],
   "source": []
  },
  {
   "cell_type": "code",
   "execution_count": null,
   "metadata": {
    "colab": {
     "base_uri": "https://localhost:8080/"
    },
    "id": "aN7hlEJIKIv6",
    "outputId": "4ec2d0ff-7dac-4473-80f6-5e40669d2085"
   },
   "outputs": [],
   "source": []
  },
  {
   "cell_type": "code",
   "execution_count": null,
   "metadata": {
    "id": "GKmNf0m1JNFu"
   },
   "outputs": [],
   "source": [
    "OUTPUT_CLASSES = 2\n",
    "\n",
    "model = unet_model(output_channels=OUTPUT_CLASSES)\n",
    "model.compile(\n",
    "    optimizer='adam',\n",
    "    loss=tf.keras.losses.SparseCategoricalCrossentropy(from_logits=True),\n",
    "    metrics=['accuracy'],\n",
    ")"
   ]
  },
  {
   "cell_type": "code",
   "execution_count": null,
   "metadata": {
    "colab": {
     "background_save": true,
     "base_uri": "https://localhost:8080/"
    },
    "id": "cbFVsYtSJfeX",
    "outputId": "da91bcae-8d49-4d6e-a190-3f776a6784b1"
   },
   "outputs": [],
   "source": [
    "callbacks = [\n",
    "        # tf.keras.callbacks.EarlyStopping(patience=2, monitor='val_loss'),\n",
    "        tf.keras.callbacks.TensorBoard(log_dir='./logs'),\n",
    "]\n",
    "\n",
    "model.fit(\n",
    "    X_train, \n",
    "    y_train, \n",
    "    validation_data=(X_test, y_test), \n",
    "    batch_size=16, \n",
    "    epochs=20, \n",
    "    callbacks=callbacks,\n",
    ")"
   ]
  },
  {
   "cell_type": "code",
   "execution_count": null,
   "metadata": {
    "id": "T9ifKWOHz4Y6"
   },
   "outputs": [],
   "source": [
    "def create_mask(pred_mask):\n",
    "  pred_mask = tf.math.argmax(pred_mask, axis=-1)\n",
    "  pred_mask = pred_mask[..., tf.newaxis]\n",
    "  return pred_mask[0]"
   ]
  },
  {
   "cell_type": "code",
   "execution_count": null,
   "metadata": {
    "id": "YLNsrynNtx4d"
   },
   "outputs": [],
   "source": [
    "def show_predictions(dataset=None, num=1):\n",
    "  if dataset:\n",
    "    for image, mask in dataset.take(num):\n",
    "      pred_mask = model.predict(image)\n",
    "      display([image[0], mask[0], create_mask(pred_mask)])\n",
    "  else:\n",
    "    # display([sample_image, sample_mask,\n",
    "    #          create_mask(model.predict(sample_image[tf.newaxis, ...]))])\n",
    "    plt.imshow(sample_image)\n",
    "    plt.imshow(sample_mask)\n",
    "    plt.imshow(\n",
    "        create_mask(\n",
    "            model.predict(sample_image[tf.newaxis, ...])\n",
    "            )\n",
    "        )\n",
    "\n",
    "    \n"
   ]
  },
  {
   "cell_type": "code",
   "execution_count": null,
   "metadata": {
    "id": "Vm7cP42T1zSK"
   },
   "outputs": [],
   "source": [
    "sample_image = data_images[100][0]\n",
    "sample_mask = data_segmentation_masks[100][0]\n",
    "# show_predictions()\n",
    "# create_mask(model.predict(sample_image[tf.newaxis, ...])\n",
    "        \n"
   ]
  },
  {
   "cell_type": "code",
   "execution_count": null,
   "metadata": {
    "colab": {
     "base_uri": "https://localhost:8080/",
     "height": 287
    },
    "id": "vopOd7nx2sA4",
    "outputId": "150eaf56-c715-4b81-b49a-1040c7c28e4d"
   },
   "outputs": [],
   "source": [
    "plt.imshow(sample_image)"
   ]
  },
  {
   "cell_type": "code",
   "execution_count": null,
   "metadata": {
    "colab": {
     "base_uri": "https://localhost:8080/",
     "height": 287
    },
    "id": "m9zMuXra3df_",
    "outputId": "0e68a13b-f555-4ea3-d4d5-d19c8a83e1f2"
   },
   "outputs": [],
   "source": [
    "plt.imshow(sample_mask)"
   ]
  },
  {
   "cell_type": "code",
   "execution_count": null,
   "metadata": {
    "id": "KKrPWIlN3fUy"
   },
   "outputs": [],
   "source": [
    "# plt.imshow(create_mask(model.predict(sample_image[tf.newaxis, ...])))"
   ]
  },
  {
   "cell_type": "code",
   "execution_count": null,
   "metadata": {
    "id": "ivAViXas3kOu"
   },
   "outputs": [],
   "source": []
  }
 ],
 "metadata": {
  "colab": {
   "provenance": []
  },
  "gpuClass": "standard",
  "kernelspec": {
   "display_name": "rooftop",
   "language": "python",
   "name": "rooftop"
  },
  "language_info": {
   "codemirror_mode": {
    "name": "ipython",
    "version": 3
   },
   "file_extension": ".py",
   "mimetype": "text/x-python",
   "name": "python",
   "nbconvert_exporter": "python",
   "pygments_lexer": "ipython3",
   "version": "3.8.10"
  }
 },
 "nbformat": 4,
 "nbformat_minor": 4
}
